{
 "cells": [
  {
   "cell_type": "code",
   "execution_count": 1,
   "metadata": {},
   "outputs": [
    {
     "name": "stdout",
     "output_type": "stream",
     "text": [
      "/Users/gaojiejun/Sheffield/_00_Dissertation/Code/TRN-pytorch-master\n"
     ]
    }
   ],
   "source": [
    "import os, pandas as pd \n",
    "import numpy as np\n",
    "from scipy import stats \n",
    "import time\n",
    "from datetime import datetime\n",
    "import pickle\n",
    "print(os.getcwd())\n",
    "from collections import Counter\n",
    "import matplotlib.pyplot as plt\n",
    "%config InlineBackend.figure_format = 'retina'"
   ]
  },
  {
   "cell_type": "code",
   "execution_count": 2,
   "metadata": {},
   "outputs": [
    {
     "name": "stdout",
     "output_type": "stream",
     "text": [
      "28472\n",
      "8793\n"
     ]
    }
   ],
   "source": [
    "train= pd.read_pickle('../../epic/data/processed/train_labels.pkl')\n",
    "test_seen= pd.read_pickle('../../epic/data/processed/test_seen_labels.pkl')\n",
    "test_unseen= pd.read_pickle('../../epic/data/processed/test_unseen_labels.pkl')\n",
    "train[train.video_id=='P08_13'][:2]\n",
    "# test_seen[:2]\n",
    "# test_unseen[:2]\n",
    "print(len(train))\n",
    "print(len(np.unique(train.narration)))"
   ]
  },
  {
   "cell_type": "code",
   "execution_count": 3,
   "metadata": {},
   "outputs": [
    {
     "data": {
      "text/plain": [
       "count    28472.000000\n",
       "mean       224.640910\n",
       "std        338.308508\n",
       "min         30.000000\n",
       "25%         69.000000\n",
       "50%        116.000000\n",
       "75%        240.000000\n",
       "max      12420.000000\n",
       "dtype: float64"
      ]
     },
     "execution_count": 3,
     "metadata": {},
     "output_type": "execute_result"
    }
   ],
   "source": [
    "\n",
    "train[:50]\n",
    "fn= train.stop_frame- train.start_frame\n",
    "fn.describe()"
   ]
  },
  {
   "cell_type": "code",
   "execution_count": null,
   "metadata": {},
   "outputs": [],
   "source": []
  },
  {
   "cell_type": "code",
   "execution_count": 41,
   "metadata": {},
   "outputs": [
    {
     "name": "stdout",
     "output_type": "stream",
     "text": [
      "(4762, 14)\n",
      "(1587, 14)\n",
      "(1586, 14)\n"
     ]
    }
   ],
   "source": [
    "def read_pickle(pkl):\n",
    "    a= pd.read_pickle(pkl)\n",
    "    a.columns= ['participant_id', 'video_id', 'narration', 'start_timestamp',\n",
    "       'stop_timestamp', 'start_frame', 'stop_frame', 'verb', 'verb_class',\n",
    "       'noun', 'noun_class', 'all_nouns', 'all_noun_classes','frame_num']\n",
    "    return a \n",
    "\n",
    "xy_train= read_pickle('../LXY_reepickitchens/train.pkl')\n",
    "xy_test= read_pickle('../LXY_reepickitchens/test.pkl')\n",
    "xy_val= read_pickle('../LXY_reepickitchens/val.pkl')\n",
    "xy_val[:2]\n",
    "\n",
    "\n",
    "idx=[0,2,3]\n",
    "df= xy_test[(xy_test.video_id=='P22_14')]\n",
    "df[df.index==2]\n",
    "\n",
    "# df.iloc[0]\n",
    "fn= xy_train.stop_frame- xy_train.start_frame\n",
    "xy_train.frame_num.describe()\n",
    "fn.describe()\n",
    "print(xy_train.shape)\n",
    "print(xy_test.shape)\n",
    "print(xy_val.shape)\n",
    "# xy_test.columns"
   ]
  },
  {
   "cell_type": "code",
   "execution_count": 5,
   "metadata": {},
   "outputs": [
    {
     "data": {
      "text/html": [
       "<div>\n",
       "<style scoped>\n",
       "    .dataframe tbody tr th:only-of-type {\n",
       "        vertical-align: middle;\n",
       "    }\n",
       "\n",
       "    .dataframe tbody tr th {\n",
       "        vertical-align: top;\n",
       "    }\n",
       "\n",
       "    .dataframe thead th {\n",
       "        text-align: right;\n",
       "    }\n",
       "</style>\n",
       "<table border=\"1\" class=\"dataframe\">\n",
       "  <thead>\n",
       "    <tr style=\"text-align: right;\">\n",
       "      <th></th>\n",
       "      <th>participant_id</th>\n",
       "      <th>video_id</th>\n",
       "      <th>narration</th>\n",
       "      <th>start_timestamp</th>\n",
       "      <th>stop_timestamp</th>\n",
       "      <th>start_frame</th>\n",
       "      <th>stop_frame</th>\n",
       "      <th>verb</th>\n",
       "      <th>verb_class</th>\n",
       "      <th>noun</th>\n",
       "      <th>noun_class</th>\n",
       "      <th>all_nouns</th>\n",
       "      <th>all_noun_classes</th>\n",
       "      <th>frame_num</th>\n",
       "    </tr>\n",
       "  </thead>\n",
       "  <tbody>\n",
       "    <tr>\n",
       "      <th>904</th>\n",
       "      <td>P08</td>\n",
       "      <td>P08_25</td>\n",
       "      <td>get kitchen towel</td>\n",
       "      <td>00:00:13.65</td>\n",
       "      <td>00:00:15.62</td>\n",
       "      <td>819</td>\n",
       "      <td>937</td>\n",
       "      <td>get</td>\n",
       "      <td>0</td>\n",
       "      <td>towel:kitchen</td>\n",
       "      <td>66</td>\n",
       "      <td>[towel:kitchen]</td>\n",
       "      <td>[66]</td>\n",
       "      <td>118</td>\n",
       "    </tr>\n",
       "    <tr>\n",
       "      <th>955</th>\n",
       "      <td>P08</td>\n",
       "      <td>P08_25</td>\n",
       "      <td>get plate</td>\n",
       "      <td>00:00:01.08</td>\n",
       "      <td>00:00:03.24</td>\n",
       "      <td>64</td>\n",
       "      <td>194</td>\n",
       "      <td>get</td>\n",
       "      <td>0</td>\n",
       "      <td>plate</td>\n",
       "      <td>4</td>\n",
       "      <td>[plate]</td>\n",
       "      <td>[4]</td>\n",
       "      <td>130</td>\n",
       "    </tr>\n",
       "    <tr>\n",
       "      <th>1055</th>\n",
       "      <td>P08</td>\n",
       "      <td>P08_25</td>\n",
       "      <td>get bowl</td>\n",
       "      <td>00:00:07.56</td>\n",
       "      <td>00:00:10.33</td>\n",
       "      <td>453</td>\n",
       "      <td>619</td>\n",
       "      <td>get</td>\n",
       "      <td>0</td>\n",
       "      <td>bowl</td>\n",
       "      <td>6</td>\n",
       "      <td>[bowl]</td>\n",
       "      <td>[6]</td>\n",
       "      <td>166</td>\n",
       "    </tr>\n",
       "    <tr>\n",
       "      <th>2761</th>\n",
       "      <td>P08</td>\n",
       "      <td>P08_25</td>\n",
       "      <td>open dishwasher</td>\n",
       "      <td>00:00:05.05</td>\n",
       "      <td>00:00:06.12</td>\n",
       "      <td>303</td>\n",
       "      <td>367</td>\n",
       "      <td>open</td>\n",
       "      <td>2</td>\n",
       "      <td>dishwasher</td>\n",
       "      <td>49</td>\n",
       "      <td>[dishwasher]</td>\n",
       "      <td>[49]</td>\n",
       "      <td>64</td>\n",
       "    </tr>\n",
       "    <tr>\n",
       "      <th>3662</th>\n",
       "      <td>P08</td>\n",
       "      <td>P08_25</td>\n",
       "      <td>wipe off</td>\n",
       "      <td>00:00:17.71</td>\n",
       "      <td>00:00:19.22</td>\n",
       "      <td>1062</td>\n",
       "      <td>1153</td>\n",
       "      <td>wipe-off</td>\n",
       "      <td>4</td>\n",
       "      <td>towel:kitchen</td>\n",
       "      <td>66</td>\n",
       "      <td>[towel:kitchen]</td>\n",
       "      <td>[66]</td>\n",
       "      <td>91</td>\n",
       "    </tr>\n",
       "  </tbody>\n",
       "</table>\n",
       "</div>"
      ],
      "text/plain": [
       "     participant_id video_id          narration start_timestamp  \\\n",
       "904             P08   P08_25  get kitchen towel     00:00:13.65   \n",
       "955             P08   P08_25          get plate     00:00:01.08   \n",
       "1055            P08   P08_25           get bowl     00:00:07.56   \n",
       "2761            P08   P08_25    open dishwasher     00:00:05.05   \n",
       "3662            P08   P08_25           wipe off     00:00:17.71   \n",
       "\n",
       "     stop_timestamp start_frame stop_frame      verb verb_class  \\\n",
       "904     00:00:15.62         819        937       get          0   \n",
       "955     00:00:03.24          64        194       get          0   \n",
       "1055    00:00:10.33         453        619       get          0   \n",
       "2761    00:00:06.12         303        367      open          2   \n",
       "3662    00:00:19.22        1062       1153  wipe-off          4   \n",
       "\n",
       "               noun noun_class        all_nouns all_noun_classes frame_num  \n",
       "904   towel:kitchen         66  [towel:kitchen]             [66]       118  \n",
       "955           plate          4          [plate]              [4]       130  \n",
       "1055           bowl          6           [bowl]              [6]       166  \n",
       "2761     dishwasher         49     [dishwasher]             [49]        64  \n",
       "3662  towel:kitchen         66  [towel:kitchen]             [66]        91  "
      ]
     },
     "execution_count": 5,
     "metadata": {},
     "output_type": "execute_result"
    }
   ],
   "source": [
    "xy_train[xy_train.video_id=='P08_25']\n",
    "\n"
   ]
  },
  {
   "cell_type": "code",
   "execution_count": 45,
   "metadata": {},
   "outputs": [
    {
     "data": {
      "text/html": [
       "<div>\n",
       "<style scoped>\n",
       "    .dataframe tbody tr th:only-of-type {\n",
       "        vertical-align: middle;\n",
       "    }\n",
       "\n",
       "    .dataframe tbody tr th {\n",
       "        vertical-align: top;\n",
       "    }\n",
       "\n",
       "    .dataframe thead th {\n",
       "        text-align: right;\n",
       "    }\n",
       "</style>\n",
       "<table border=\"1\" class=\"dataframe\">\n",
       "  <thead>\n",
       "    <tr style=\"text-align: right;\">\n",
       "      <th></th>\n",
       "      <th>verb_id</th>\n",
       "      <th>class_key</th>\n",
       "      <th>verbs</th>\n",
       "    </tr>\n",
       "  </thead>\n",
       "  <tbody>\n",
       "    <tr>\n",
       "      <th>0</th>\n",
       "      <td>0</td>\n",
       "      <td>take</td>\n",
       "      <td>['take', 'grab', 'pick', 'draw', 'get', 'grab-...</td>\n",
       "    </tr>\n",
       "    <tr>\n",
       "      <th>1</th>\n",
       "      <td>1</td>\n",
       "      <td>put</td>\n",
       "      <td>['put', 'pose', 'put-away', 'place-that', 'pla...</td>\n",
       "    </tr>\n",
       "    <tr>\n",
       "      <th>2</th>\n",
       "      <td>2</td>\n",
       "      <td>open</td>\n",
       "      <td>['open', 'unzip', 'open-up']</td>\n",
       "    </tr>\n",
       "    <tr>\n",
       "      <th>3</th>\n",
       "      <td>3</td>\n",
       "      <td>close</td>\n",
       "      <td>['close', 'close-off', 'shut']</td>\n",
       "    </tr>\n",
       "    <tr>\n",
       "      <th>4</th>\n",
       "      <td>4</td>\n",
       "      <td>wash</td>\n",
       "      <td>['wash', 'sponge', 'lather', 'wash-with', 'rin...</td>\n",
       "    </tr>\n",
       "    <tr>\n",
       "      <th>5</th>\n",
       "      <td>5</td>\n",
       "      <td>cut</td>\n",
       "      <td>['cut', 'chop', 'chop-off', 'cut-off', 'slice-...</td>\n",
       "    </tr>\n",
       "    <tr>\n",
       "      <th>6</th>\n",
       "      <td>6</td>\n",
       "      <td>mix</td>\n",
       "      <td>['mix', 'beat', 'mix-around', 'stir-with', 'wh...</td>\n",
       "    </tr>\n",
       "    <tr>\n",
       "      <th>7</th>\n",
       "      <td>7</td>\n",
       "      <td>pour</td>\n",
       "      <td>['pour', 'pour-in', 'tip-in', 'pour-out', 'pou...</td>\n",
       "    </tr>\n",
       "  </tbody>\n",
       "</table>\n",
       "</div>"
      ],
      "text/plain": [
       "   verb_id class_key                                              verbs\n",
       "0        0      take  ['take', 'grab', 'pick', 'draw', 'get', 'grab-...\n",
       "1        1       put  ['put', 'pose', 'put-away', 'place-that', 'pla...\n",
       "2        2      open                       ['open', 'unzip', 'open-up']\n",
       "3        3     close                     ['close', 'close-off', 'shut']\n",
       "4        4      wash  ['wash', 'sponge', 'lather', 'wash-with', 'rin...\n",
       "5        5       cut  ['cut', 'chop', 'chop-off', 'cut-off', 'slice-...\n",
       "6        6       mix  ['mix', 'beat', 'mix-around', 'stir-with', 'wh...\n",
       "7        7      pour  ['pour', 'pour-in', 'tip-in', 'pour-out', 'pou..."
      ]
     },
     "execution_count": 45,
     "metadata": {},
     "output_type": "execute_result"
    }
   ],
   "source": [
    "cols = ['verb_class']\n",
    "xy_val[cols].groupby(cols).size()\n",
    "\n",
    "verb_dict=pd.read_csv( r'./epic_kitchens/EPIC_verb_classes.csv')\n",
    "verb_dict[:8]"
   ]
  },
  {
   "cell_type": "code",
   "execution_count": 151,
   "metadata": {},
   "outputs": [
    {
     "data": {
      "text/html": [
       "<div>\n",
       "<style scoped>\n",
       "    .dataframe tbody tr th:only-of-type {\n",
       "        vertical-align: middle;\n",
       "    }\n",
       "\n",
       "    .dataframe tbody tr th {\n",
       "        vertical-align: top;\n",
       "    }\n",
       "\n",
       "    .dataframe thead th {\n",
       "        text-align: right;\n",
       "    }\n",
       "</style>\n",
       "<table border=\"1\" class=\"dataframe\">\n",
       "  <thead>\n",
       "    <tr style=\"text-align: right;\">\n",
       "      <th></th>\n",
       "      <th>0</th>\n",
       "      <th>verb_id</th>\n",
       "      <th>class_key</th>\n",
       "      <th>verbs</th>\n",
       "    </tr>\n",
       "    <tr>\n",
       "      <th>verb_class</th>\n",
       "      <th></th>\n",
       "      <th></th>\n",
       "      <th></th>\n",
       "      <th></th>\n",
       "    </tr>\n",
       "  </thead>\n",
       "  <tbody>\n",
       "    <tr>\n",
       "      <th>0</th>\n",
       "      <td>1233</td>\n",
       "      <td>0</td>\n",
       "      <td>take</td>\n",
       "      <td>['take', 'grab', 'pick', 'draw', 'get', 'grab-...</td>\n",
       "    </tr>\n",
       "    <tr>\n",
       "      <th>1</th>\n",
       "      <td>1318</td>\n",
       "      <td>1</td>\n",
       "      <td>put</td>\n",
       "      <td>['put', 'pose', 'put-away', 'place-that', 'pla...</td>\n",
       "    </tr>\n",
       "    <tr>\n",
       "      <th>2</th>\n",
       "      <td>556</td>\n",
       "      <td>2</td>\n",
       "      <td>open</td>\n",
       "      <td>['open', 'unzip', 'open-up']</td>\n",
       "    </tr>\n",
       "    <tr>\n",
       "      <th>3</th>\n",
       "      <td>425</td>\n",
       "      <td>3</td>\n",
       "      <td>close</td>\n",
       "      <td>['close', 'close-off', 'shut']</td>\n",
       "    </tr>\n",
       "    <tr>\n",
       "      <th>4</th>\n",
       "      <td>797</td>\n",
       "      <td>4</td>\n",
       "      <td>wash</td>\n",
       "      <td>['wash', 'sponge', 'lather', 'wash-with', 'rin...</td>\n",
       "    </tr>\n",
       "    <tr>\n",
       "      <th>5</th>\n",
       "      <td>162</td>\n",
       "      <td>5</td>\n",
       "      <td>cut</td>\n",
       "      <td>['cut', 'chop', 'chop-off', 'cut-off', 'slice-...</td>\n",
       "    </tr>\n",
       "    <tr>\n",
       "      <th>6</th>\n",
       "      <td>125</td>\n",
       "      <td>6</td>\n",
       "      <td>mix</td>\n",
       "      <td>['mix', 'beat', 'mix-around', 'stir-with', 'wh...</td>\n",
       "    </tr>\n",
       "    <tr>\n",
       "      <th>7</th>\n",
       "      <td>146</td>\n",
       "      <td>7</td>\n",
       "      <td>pour</td>\n",
       "      <td>['pour', 'pour-in', 'tip-in', 'pour-out', 'pou...</td>\n",
       "    </tr>\n",
       "  </tbody>\n",
       "</table>\n",
       "</div>"
      ],
      "text/plain": [
       "               0  verb_id class_key  \\\n",
       "verb_class                            \n",
       "0           1233        0      take   \n",
       "1           1318        1       put   \n",
       "2            556        2      open   \n",
       "3            425        3     close   \n",
       "4            797        4      wash   \n",
       "5            162        5       cut   \n",
       "6            125        6       mix   \n",
       "7            146        7      pour   \n",
       "\n",
       "                                                        verbs  \n",
       "verb_class                                                     \n",
       "0           ['take', 'grab', 'pick', 'draw', 'get', 'grab-...  \n",
       "1           ['put', 'pose', 'put-away', 'place-that', 'pla...  \n",
       "2                                ['open', 'unzip', 'open-up']  \n",
       "3                              ['close', 'close-off', 'shut']  \n",
       "4           ['wash', 'sponge', 'lather', 'wash-with', 'rin...  \n",
       "5           ['cut', 'chop', 'chop-off', 'cut-off', 'slice-...  \n",
       "6           ['mix', 'beat', 'mix-around', 'stir-with', 'wh...  \n",
       "7           ['pour', 'pour-in', 'tip-in', 'pour-out', 'pou...  "
      ]
     },
     "execution_count": 151,
     "metadata": {},
     "output_type": "execute_result"
    }
   ],
   "source": [
    "# len(verb_class)\n",
    "\n",
    "\n",
    "verb_class= xy_train[cols].groupby(cols).size()\n",
    "pd.DataFrame(verb_class).join(verb_dict)\n",
    "isinstance(verb_class, pd.Series)\n",
    "ds= pd.DataFrame(verb_class).join(verb_dict)\n",
    "ds\n",
    "\n"
   ]
  },
  {
   "cell_type": "code",
   "execution_count": 149,
   "metadata": {},
   "outputs": [
    {
     "data": {
      "image/png": "[encoded data removed]",
      "text/plain": [
       "<Figure size 1440x432 with 1 Axes>"
      ]
     },
     "metadata": {
      "image/png": {
       "height": 424,
       "width": 1431
      },
      "needs_background": "light"
     },
     "output_type": "display_data"
    }
   ],
   "source": [
    "verb_class= train[cols].groupby(cols).size()\n",
    "\n",
    "def bar_graph( ds, index_col= None, bar_col= None,\n",
    "              plotname='verb_class', colors=['salmon'], xlabel='', ylabel='actions', \n",
    "              save_as_pdf=''):\n",
    "    ''' ds is a single column of a pd.dataframe. or a Series.'''\n",
    "    \n",
    "    index= np.arange( len(ds))\n",
    "    my_colrs= colors\n",
    "    if isinstance(ds, pd.Series) or len(ds.columns)==1 : \n",
    "        x_ticks= ds.index\n",
    "        bar_col= ds \n",
    "    else: \n",
    "        x_ticks = ds[index_col]\n",
    "        bar_col= ds[bar_col]\n",
    "        \n",
    "    if len(colors)==1 : my_colrs = colors* (len(ds))\n",
    "    \n",
    "    \n",
    "    plt.bar(index, bar_col ,#width=1/2, \n",
    "            color= my_colrs)\n",
    "\n",
    "    plt.yscale('log')\n",
    "    plt.xlabel(xlabel, fontsize=15)\n",
    "    plt.ylabel(ylabel, fontsize=15) \n",
    "    plt.xticks(index, x_ticks, fontsize=10, rotation=90,ha=\"center\")\n",
    "#     plt.ylim(0 , 0.3)#  \n",
    "    plt.title(plotname, fontsize=18)\n",
    "    plt.tight_layout()\n",
    "    if save_as_pdf: plt.savefig(save_as_pdf, format='pdf')\n",
    "    plt.show()\n",
    "    plt.close()\n",
    "\n",
    "plt.rcParams[\"figure.figsize\"] = (20,6) # the canvas inches\n",
    "plt.margins(x=0.01)# to contron the margin sapce inside the border.\n",
    "ds= pd.DataFrame(verb_class).join(verb_dict)\n",
    "ds.columns =['cnt']+ list(ds.columns[1:])\n",
    "ds= ds.sort_values(['cnt'], ascending=[False])\n",
    "bar_graph(ds, index_col='class_key', bar_col='cnt',\n",
    "         save_as_pdf='../../deliverable/Figure/verb_class.pdf')"
   ]
  },
  {
   "cell_type": "code",
   "execution_count": 44,
   "metadata": {},
   "outputs": [
    {
     "data": {
      "text/plain": [
       "verb_class\n",
       "0    411\n",
       "1    439\n",
       "2    185\n",
       "3    142\n",
       "4    266\n",
       "5     54\n",
       "6     41\n",
       "7     48\n",
       "dtype: int64"
      ]
     },
     "execution_count": 44,
     "metadata": {},
     "output_type": "execute_result"
    }
   ],
   "source": [
    "\n"
   ]
  },
  {
   "cell_type": "code",
   "execution_count": 6,
   "metadata": {},
   "outputs": [
    {
     "data": {
      "text/plain": [
       "0      00:00:00.500000\n",
       "1      00:00:00.500000\n",
       "2      00:00:00.500000\n",
       "3      00:00:00.510000\n",
       "4      00:00:00.500000\n",
       "5      00:00:00.520000\n",
       "6      00:00:00.520000\n",
       "7      00:00:00.510000\n",
       "8      00:00:00.530000\n",
       "9      00:00:00.540000\n",
       "10     00:00:00.540000\n",
       "11     00:00:00.560000\n",
       "12     00:00:00.550000\n",
       "13     00:00:00.560000\n",
       "14     00:00:00.550000\n",
       "15     00:00:00.560000\n",
       "16     00:00:00.560000\n",
       "17     00:00:00.580000\n",
       "18     00:00:00.560000\n",
       "19     00:00:00.570000\n",
       "20     00:00:00.590000\n",
       "21     00:00:00.570000\n",
       "22     00:00:00.590000\n",
       "23     00:00:00.610000\n",
       "24     00:00:00.600000\n",
       "25     00:00:00.590000\n",
       "26     00:00:00.610000\n",
       "27     00:00:00.600000\n",
       "28     00:00:00.600000\n",
       "29     00:00:00.600000\n",
       "             ...      \n",
       "4732   00:00:07.310000\n",
       "4733   00:00:07.560000\n",
       "4734   00:00:07.580000\n",
       "4735   00:00:07.630000\n",
       "4736   00:00:07.630000\n",
       "4737   00:00:07.660000\n",
       "4738   00:00:07.750000\n",
       "4739   00:00:07.820000\n",
       "4740   00:00:07.860000\n",
       "4741   00:00:08.460000\n",
       "4742   00:00:08.510000\n",
       "4743   00:00:08.540000\n",
       "4744   00:00:09.090000\n",
       "4745   00:00:09.110000\n",
       "4746   00:00:09.380000\n",
       "4747   00:00:10.010000\n",
       "4748   00:00:10.250000\n",
       "4749   00:00:10.580000\n",
       "4750   00:00:11.510000\n",
       "4751   00:00:11.710000\n",
       "4752   00:00:11.730000\n",
       "4753   00:00:12.960000\n",
       "4754   00:00:13.060000\n",
       "4755   00:00:13.260000\n",
       "4756   00:00:13.880000\n",
       "4757   00:00:13.950000\n",
       "4758   00:00:14.100000\n",
       "4759   00:00:16.660000\n",
       "4760   00:00:18.040000\n",
       "4761   00:00:21.420000\n",
       "Name: duration, Length: 4762, dtype: timedelta64[ns]"
      ]
     },
     "execution_count": 6,
     "metadata": {},
     "output_type": "execute_result"
    }
   ],
   "source": [
    "type(train.start_timestamp[0])\n",
    "xy_train['stop']=pd.to_datetime(xy_train.stop_timestamp)\n",
    "xy_train['start']=pd.to_datetime(xy_train.start_timestamp)\n",
    "xy_train['duration']= xy_train['stop']- xy_train['start']\n",
    "xy_train.duration\n"
   ]
  },
  {
   "cell_type": "code",
   "execution_count": 78,
   "metadata": {},
   "outputs": [
    {
     "data": {
      "text/plain": [
       "count    28472.000000\n",
       "mean       225.640910\n",
       "std        338.308508\n",
       "min         31.000000\n",
       "25%         70.000000\n",
       "50%        117.000000\n",
       "75%        241.000000\n",
       "max      12421.000000\n",
       "Name: frames, dtype: float64"
      ]
     },
     "execution_count": 78,
     "metadata": {},
     "output_type": "execute_result"
    }
   ],
   "source": [
    "train.frames.describe()"
   ]
  },
  {
   "cell_type": "code",
   "execution_count": 77,
   "metadata": {
    "scrolled": true
   },
   "outputs": [
    {
     "data": {
      "text/plain": [
       "count                     28472\n",
       "mean     0 days 00:00:03.744090\n",
       "std      0 days 00:00:05.638492\n",
       "min      0 days 00:00:00.500000\n",
       "25%      0 days 00:00:01.150000\n",
       "50%      0 days 00:00:01.930000\n",
       "75%             0 days 00:00:04\n",
       "max             0 days 00:03:27\n",
       "Name: duration, dtype: object"
      ]
     },
     "execution_count": 77,
     "metadata": {},
     "output_type": "execute_result"
    }
   ],
   "source": [
    "train.duration.describe()"
   ]
  },
  {
   "cell_type": "code",
   "execution_count": 196,
   "metadata": {},
   "outputs": [],
   "source": [
    "\n",
    "def bar_group(ds,  bars_cols=None,index_col=None, xlabel='',ylabel='', ylims=None,\n",
    "    plotname='Fig.Name',colors=0, alpha=1, lagend_lbls=None, xtick_rotation=0, save_as_pdf=''):\n",
    "    '''\n",
    "    plot a grouped bar chart\n",
    "    bars_cols= ['col1','col2']\n",
    "    index_col= 'col_index'\n",
    "    '''\n",
    "    N= len(ds) \n",
    "    if not bars_cols: bars_cols= ds.columns\n",
    "    if not lagend_lbls: lagend_lbls= bars_cols\n",
    "    grps= len(bars_cols)\n",
    "    index = ds[index_col] if index_col else ds.index \n",
    "    barWidth = 1/(grps+1)   # if group of n, then the barWidth = 1/(n+1)\n",
    "    for i, col in enumerate(bars_cols):\n",
    "        r= [x + barWidth*i for x in range(N)]\n",
    "        bars= ds[col]\n",
    "        if colors:\n",
    "            plt.bar(r, bars,width=barWidth, edgecolor='white', label=lagend_lbls[i], color=colors[i], alpha= alpha)\n",
    "        else:\n",
    "            plt.bar(r, bars,width=barWidth, edgecolor='white', label=lagend_lbls[i], alpha= alpha) \n",
    "    plt.xlabel(xlabel, fontsize=10)\n",
    "    plt.ylabel(ylabel, fontsize=10)\n",
    "    plt.yticks(fontsize=8)\n",
    "    plt.xticks(ticks= [r + (0.5-barWidth) for r in range(N)], labels=index,fontsize=8, rotation=xtick_rotation,ha=\"center\")\n",
    "    if ylims and len(ylims)==2: plt.ylim(ylims)\n",
    "    plt.legend()# legend(bbox_to_anchor=(1, 1)) #right top.\n",
    "    plt.title(plotname)\n",
    "    plt.tight_layout() \n",
    "    if save_as_pdf:\n",
    "        plt.savefig(save_as_pdf, format='pdf')\n",
    "    plt.show()\n"
   ]
  },
  {
   "cell_type": "code",
   "execution_count": 107,
   "metadata": {},
   "outputs": [
    {
     "name": "stdout",
     "output_type": "stream",
     "text": [
      "0 days 00:00:02.300000\n"
     ]
    },
    {
     "data": {
      "text/plain": [
       "2.3"
      ]
     },
     "execution_count": 107,
     "metadata": {},
     "output_type": "execute_result"
    }
   ],
   "source": [
    "import datetime\n",
    "\n",
    "x = train.duration[990]\n",
    "print( x)\n",
    "x.total_seconds()"
   ]
  },
  {
   "cell_type": "code",
   "execution_count": 185,
   "metadata": {},
   "outputs": [],
   "source": [
    "bins= 1\n",
    "def process(duration_col):\n",
    "    x= duration_col\n",
    "    x= [np.ceil(i.total_seconds()/bins) for i in x]\n",
    "    x= Counter(x)\n",
    "    x=pd.DataFrame.from_dict(x, orient='index', columns=['freqs'])#.reset_index()#= [i/sum(x) for i in x]\n",
    "    x['f']= x.freqs/x.freqs.sum()\n",
    "    return x \n",
    "# dur_xy= x\n",
    "dur= process(train.duration)\n",
    "dur_xy= process(xy_train.duration)\n",
    "# dur_xy"
   ]
  },
  {
   "cell_type": "code",
   "execution_count": 211,
   "metadata": {},
   "outputs": [
    {
     "data": {
      "text/plain": [
       "count                     28472\n",
       "mean     0 days 00:00:03.744090\n",
       "std      0 days 00:00:05.638492\n",
       "min      0 days 00:00:00.500000\n",
       "25%      0 days 00:00:01.150000\n",
       "50%      0 days 00:00:01.930000\n",
       "75%             0 days 00:00:04\n",
       "max             0 days 00:03:27\n",
       "Name: duration, dtype: object"
      ]
     },
     "execution_count": 211,
     "metadata": {},
     "output_type": "execute_result"
    }
   ],
   "source": [
    "train.duration.describe()"
   ]
  },
  {
   "cell_type": "code",
   "execution_count": 207,
   "metadata": {},
   "outputs": [
    {
     "data": {
      "image/png": "[encoded data removed]",
      "text/plain": [
       "<Figure size 432x288 with 1 Axes>"
      ]
     },
     "metadata": {
      "image/png": {
       "height": 278,
       "width": 424
      },
      "needs_background": "light"
     },
     "output_type": "display_data"
    }
   ],
   "source": [
    "\n",
    "# dur_xy#.append(dur_xy)\n",
    "dur_m= pd.concat([dur, dur_xy] , axis=1)\n",
    "dur_m.columns=['freqs', 'f','xy_freqs', 'xy_f']\n",
    "dur_m['index']= dur_m.index*bins\n",
    "dur_m['index']= dur_m['index'].astype(int)\n",
    "\n",
    "# dur_m[:20]\n",
    "bar_group(dur_m[:15], bars_cols=['f','xy_f'],index_col='index', colors=['salmon','lightseagreen'],\n",
    "          lagend_lbls=['epic_kitchen','subset of epic_kitchen'], \n",
    "          xlabel='Duration ( /s ) of actions', ylabel='percentage',\n",
    "         plotname= 'Duration distributions of epic-kitchen dataset',\n",
    "         save_as_pdf='../../deliverable/Figure/Duration Distribution.pdf')"
   ]
  },
  {
   "cell_type": "code",
   "execution_count": 130,
   "metadata": {},
   "outputs": [
    {
     "data": {
      "image/png": "[encoded data removed]",
      "text/plain": [
       "<Figure size 432x288 with 1 Axes>"
      ]
     },
     "metadata": {
      "image/png": {
       "height": 250,
       "width": 386
      },
      "needs_background": "light"
     },
     "output_type": "display_data"
    }
   ],
   "source": [
    "x= xy_train.duration\n",
    "x= [i.total_seconds() for i in x]\n",
    "plt.hist(x, bins= 200)\n",
    "\n",
    "# plt.hist(claims['Claim_Amount'],bins = 200)\n",
    "# plt.title('Histogram of non-zero Claim_Amount')\n",
    "plt.xlim([0,20])\n",
    "# plt.xlabel('claim amount(truncate 3000+)')\n",
    "# plt.ylabel('frequency')\n",
    "plt.show()\n",
    "# plt.savefig(os.path.join(savedir,'Q2_1_claim_amt.pdf'), format='pdf')\n",
    "plt.close()"
   ]
  },
  {
   "cell_type": "code",
   "execution_count": 45,
   "metadata": {},
   "outputs": [
    {
     "name": "stdout",
     "output_type": "stream",
     "text": [
      "8\n",
      "321\n"
     ]
    },
    {
     "data": {
      "text/plain": [
       "Counter({0: 1233, 1: 1318, 2: 556, 3: 425, 4: 797, 5: 162, 6: 125, 7: 146})"
      ]
     },
     "execution_count": 45,
     "metadata": {},
     "output_type": "execute_result"
    }
   ],
   "source": [
    "# xy_train/ train\n",
    "print(len(sorted(xy_train.verb_class.unique()) )) # 8\n",
    "print(len(sorted(train.noun_class.unique()) )) # 119\n",
    "\n",
    "train['verb_class'].unique()\n",
    "Counter(xy_train.verb_class)"
   ]
  },
  {
   "cell_type": "code",
   "execution_count": 46,
   "metadata": {},
   "outputs": [],
   "source": [
    "# os.path.join(os.getcwd(), 'frames')"
   ]
  },
  {
   "cell_type": "code",
   "execution_count": 48,
   "metadata": {},
   "outputs": [],
   "source": [
    "\n",
    "# method provided by Xianyuan. same as pd.read_pickle\n",
    "# with open('../Code/LXY_reepickitchens/train.pkl', 'rb') as file:\n",
    "#     file = pickle.load(file)\n",
    "#     for line in file.values:\n",
    "#         print(line)"
   ]
  },
  {
   "cell_type": "code",
   "execution_count": 50,
   "metadata": {},
   "outputs": [
    {
     "name": "stdout",
     "output_type": "stream",
     "text": [
      "(28472, 13)\n",
      "(8047, 6)\n",
      "(2929, 6)\n"
     ]
    },
    {
     "data": {
      "text/plain": [
       "Int64Index([ 1924,  1925,  1926,  1927,  1928,  1929,  1930,  1931,  1932,\n",
       "             1933,\n",
       "            ...\n",
       "            39137, 39138, 39139, 39140, 39141, 39142, 39143, 39144, 39145,\n",
       "            39146],\n",
       "           dtype='int64', name='uid', length=8047)"
      ]
     },
     "execution_count": 50,
     "metadata": {},
     "output_type": "execute_result"
    }
   ],
   "source": [
    "print(train.shape)\n",
    "print(test_seen.shape)\n",
    "print(test_unseen.shape) # 39445 totally\n",
    "test_seen.index"
   ]
  },
  {
   "cell_type": "code",
   "execution_count": 51,
   "metadata": {},
   "outputs": [
    {
     "ename": "NameError",
     "evalue": "name 'uid' is not defined",
     "output_type": "error",
     "traceback": [
      "\u001b[0;31m---------------------------------------------------------------------------\u001b[0m",
      "\u001b[0;31mNameError\u001b[0m                                 Traceback (most recent call last)",
      "\u001b[0;32m<ipython-input-51-87a6c869b624>\u001b[0m in \u001b[0;36m<module>\u001b[0;34m\u001b[0m\n\u001b[0;32m----> 1\u001b[0;31m \u001b[0mstats\u001b[0m\u001b[0;34m.\u001b[0m\u001b[0mdescribe\u001b[0m\u001b[0;34m(\u001b[0m\u001b[0muid\u001b[0m\u001b[0;34m)\u001b[0m\u001b[0;34m\u001b[0m\u001b[0;34m\u001b[0m\u001b[0m\n\u001b[0m",
      "\u001b[0;31mNameError\u001b[0m: name 'uid' is not defined"
     ]
    }
   ],
   "source": [
    "stats.describe(uid)"
   ]
  },
  {
   "cell_type": "code",
   "execution_count": 52,
   "metadata": {},
   "outputs": [
    {
     "name": "stdout",
     "output_type": "stream",
     "text": [
      "39448\n",
      "39448\n"
     ]
    },
    {
     "data": {
      "text/plain": [
       "116"
      ]
     },
     "execution_count": 52,
     "metadata": {},
     "output_type": "execute_result"
    }
   ],
   "source": [
    "u1,u2,u3=np.array(train.index), np.array(test_unseen.index), np.array(test_seen.index)\n",
    "uid= np.hstack((u1,u2,u3))\n",
    "print(len(uid))\n",
    "print(len(np.unique(uid)) )\n",
    "stats.describe(uid)\n",
    "\n",
    "x= np.arange(39563)\n",
    "y= [ i for i in x if i not in uid]\n",
    "len(y)"
   ]
  },
  {
   "cell_type": "code",
   "execution_count": 53,
   "metadata": {},
   "outputs": [
    {
     "data": {
      "text/plain": [
       "participant_id              P01\n",
       "video_id                 P01_01\n",
       "narration             open door\n",
       "start_timestamp     00:00:00.14\n",
       "stop_timestamp      00:00:03.37\n",
       "start_frame                   8\n",
       "stop_frame                  202\n",
       "verb                       open\n",
       "verb_class                    2\n",
       "noun                       door\n",
       "noun_class                    8\n",
       "all_nouns                [door]\n",
       "all_noun_classes            [8]\n",
       "Name: 0, dtype: object"
      ]
     },
     "execution_count": 53,
     "metadata": {},
     "output_type": "execute_result"
    }
   ],
   "source": [
    "train.iloc[0]"
   ]
  },
  {
   "cell_type": "code",
   "execution_count": 54,
   "metadata": {},
   "outputs": [
    {
     "data": {
      "text/plain": [
       "participant_id             P01\n",
       "video_id                P01_11\n",
       "start_timestamp    00:00:00.00\n",
       "stop_timestamp     00:00:01.89\n",
       "start_frame                  1\n",
       "stop_frame                 113\n",
       "Name: 1924, dtype: object"
      ]
     },
     "execution_count": 54,
     "metadata": {},
     "output_type": "execute_result"
    }
   ],
   "source": [
    "test_seen.iloc[0]  \n",
    "# ##lack of 7 columns:\n",
    "# narration             open door\n",
    "# verb                       open\n",
    "# verb_class                    2\n",
    "# noun                       door\n",
    "# noun_class                    8\n",
    "# all_nouns                [door]\n",
    "# all_noun_classes            [8]"
   ]
  },
  {
   "cell_type": "code",
   "execution_count": 55,
   "metadata": {},
   "outputs": [
    {
     "data": {
      "text/html": [
       "<div>\n",
       "<style scoped>\n",
       "    .dataframe tbody tr th:only-of-type {\n",
       "        vertical-align: middle;\n",
       "    }\n",
       "\n",
       "    .dataframe tbody tr th {\n",
       "        vertical-align: top;\n",
       "    }\n",
       "\n",
       "    .dataframe thead th {\n",
       "        text-align: right;\n",
       "    }\n",
       "</style>\n",
       "<table border=\"1\" class=\"dataframe\">\n",
       "  <thead>\n",
       "    <tr style=\"text-align: right;\">\n",
       "      <th></th>\n",
       "      <th>participant_id</th>\n",
       "      <th>video_id</th>\n",
       "      <th>start_timestamp</th>\n",
       "      <th>stop_timestamp</th>\n",
       "      <th>start_frame</th>\n",
       "      <th>stop_frame</th>\n",
       "    </tr>\n",
       "    <tr>\n",
       "      <th>uid</th>\n",
       "      <th></th>\n",
       "      <th></th>\n",
       "      <th></th>\n",
       "      <th></th>\n",
       "      <th></th>\n",
       "      <th></th>\n",
       "    </tr>\n",
       "  </thead>\n",
       "  <tbody>\n",
       "    <tr>\n",
       "      <th>1924</th>\n",
       "      <td>P01</td>\n",
       "      <td>P01_11</td>\n",
       "      <td>00:00:00.00</td>\n",
       "      <td>00:00:01.89</td>\n",
       "      <td>1</td>\n",
       "      <td>113</td>\n",
       "    </tr>\n",
       "  </tbody>\n",
       "</table>\n",
       "</div>"
      ],
      "text/plain": [
       "     participant_id video_id start_timestamp stop_timestamp  start_frame  \\\n",
       "uid                                                                        \n",
       "1924            P01   P01_11     00:00:00.00    00:00:01.89            1   \n",
       "\n",
       "      stop_frame  \n",
       "uid               \n",
       "1924         113  "
      ]
     },
     "execution_count": 55,
     "metadata": {},
     "output_type": "execute_result"
    }
   ],
   "source": [
    "test_seen.head(1)"
   ]
  },
  {
   "cell_type": "code",
   "execution_count": 56,
   "metadata": {},
   "outputs": [
    {
     "data": {
      "text/html": [
       "<div>\n",
       "<style scoped>\n",
       "    .dataframe tbody tr th:only-of-type {\n",
       "        vertical-align: middle;\n",
       "    }\n",
       "\n",
       "    .dataframe tbody tr th {\n",
       "        vertical-align: top;\n",
       "    }\n",
       "\n",
       "    .dataframe thead th {\n",
       "        text-align: right;\n",
       "    }\n",
       "</style>\n",
       "<table border=\"1\" class=\"dataframe\">\n",
       "  <thead>\n",
       "    <tr style=\"text-align: right;\">\n",
       "      <th></th>\n",
       "      <th>participant_id</th>\n",
       "      <th>video_id</th>\n",
       "      <th>narration</th>\n",
       "      <th>start_timestamp</th>\n",
       "      <th>stop_timestamp</th>\n",
       "      <th>start_frame</th>\n",
       "      <th>stop_frame</th>\n",
       "      <th>verb</th>\n",
       "      <th>verb_class</th>\n",
       "      <th>noun</th>\n",
       "      <th>noun_class</th>\n",
       "      <th>all_nouns</th>\n",
       "      <th>all_noun_classes</th>\n",
       "      <th>duration</th>\n",
       "      <th>frames</th>\n",
       "    </tr>\n",
       "    <tr>\n",
       "      <th>uid</th>\n",
       "      <th></th>\n",
       "      <th></th>\n",
       "      <th></th>\n",
       "      <th></th>\n",
       "      <th></th>\n",
       "      <th></th>\n",
       "      <th></th>\n",
       "      <th></th>\n",
       "      <th></th>\n",
       "      <th></th>\n",
       "      <th></th>\n",
       "      <th></th>\n",
       "      <th></th>\n",
       "      <th></th>\n",
       "      <th></th>\n",
       "    </tr>\n",
       "  </thead>\n",
       "  <tbody>\n",
       "    <tr>\n",
       "      <th>0</th>\n",
       "      <td>P01</td>\n",
       "      <td>P01_01</td>\n",
       "      <td>open door</td>\n",
       "      <td>00:00:00.14</td>\n",
       "      <td>00:00:03.37</td>\n",
       "      <td>8</td>\n",
       "      <td>202</td>\n",
       "      <td>open</td>\n",
       "      <td>2</td>\n",
       "      <td>door</td>\n",
       "      <td>8</td>\n",
       "      <td>[door]</td>\n",
       "      <td>[8]</td>\n",
       "      <td>00:00:03.230000</td>\n",
       "      <td>195</td>\n",
       "    </tr>\n",
       "    <tr>\n",
       "      <th>1</th>\n",
       "      <td>P01</td>\n",
       "      <td>P01_01</td>\n",
       "      <td>turn on light</td>\n",
       "      <td>00:00:04.37</td>\n",
       "      <td>00:00:06.17</td>\n",
       "      <td>262</td>\n",
       "      <td>370</td>\n",
       "      <td>turn-on</td>\n",
       "      <td>12</td>\n",
       "      <td>light</td>\n",
       "      <td>113</td>\n",
       "      <td>[light]</td>\n",
       "      <td>[113]</td>\n",
       "      <td>00:00:01.800000</td>\n",
       "      <td>109</td>\n",
       "    </tr>\n",
       "    <tr>\n",
       "      <th>2</th>\n",
       "      <td>P01</td>\n",
       "      <td>P01_01</td>\n",
       "      <td>close door</td>\n",
       "      <td>00:00:06.98</td>\n",
       "      <td>00:00:09.49</td>\n",
       "      <td>418</td>\n",
       "      <td>569</td>\n",
       "      <td>close</td>\n",
       "      <td>3</td>\n",
       "      <td>door</td>\n",
       "      <td>8</td>\n",
       "      <td>[door]</td>\n",
       "      <td>[8]</td>\n",
       "      <td>00:00:02.510000</td>\n",
       "      <td>152</td>\n",
       "    </tr>\n",
       "    <tr>\n",
       "      <th>3</th>\n",
       "      <td>P01</td>\n",
       "      <td>P01_01</td>\n",
       "      <td>open fridge</td>\n",
       "      <td>00:00:12.77</td>\n",
       "      <td>00:00:13.99</td>\n",
       "      <td>766</td>\n",
       "      <td>839</td>\n",
       "      <td>open</td>\n",
       "      <td>2</td>\n",
       "      <td>fridge</td>\n",
       "      <td>10</td>\n",
       "      <td>[fridge]</td>\n",
       "      <td>[10]</td>\n",
       "      <td>00:00:01.220000</td>\n",
       "      <td>74</td>\n",
       "    </tr>\n",
       "    <tr>\n",
       "      <th>4</th>\n",
       "      <td>P01</td>\n",
       "      <td>P01_01</td>\n",
       "      <td>take celery</td>\n",
       "      <td>00:00:15.25</td>\n",
       "      <td>00:00:16.40</td>\n",
       "      <td>915</td>\n",
       "      <td>983</td>\n",
       "      <td>take</td>\n",
       "      <td>0</td>\n",
       "      <td>celery</td>\n",
       "      <td>185</td>\n",
       "      <td>[celery]</td>\n",
       "      <td>[185]</td>\n",
       "      <td>00:00:01.150000</td>\n",
       "      <td>69</td>\n",
       "    </tr>\n",
       "  </tbody>\n",
       "</table>\n",
       "</div>"
      ],
      "text/plain": [
       "    participant_id video_id      narration start_timestamp stop_timestamp  \\\n",
       "uid                                                                         \n",
       "0              P01   P01_01      open door     00:00:00.14    00:00:03.37   \n",
       "1              P01   P01_01  turn on light     00:00:04.37    00:00:06.17   \n",
       "2              P01   P01_01     close door     00:00:06.98    00:00:09.49   \n",
       "3              P01   P01_01    open fridge     00:00:12.77    00:00:13.99   \n",
       "4              P01   P01_01    take celery     00:00:15.25    00:00:16.40   \n",
       "\n",
       "     start_frame  stop_frame     verb  verb_class    noun  noun_class  \\\n",
       "uid                                                                     \n",
       "0              8         202     open           2    door           8   \n",
       "1            262         370  turn-on          12   light         113   \n",
       "2            418         569    close           3    door           8   \n",
       "3            766         839     open           2  fridge          10   \n",
       "4            915         983     take           0  celery         185   \n",
       "\n",
       "    all_nouns all_noun_classes        duration  frames  \n",
       "uid                                                     \n",
       "0      [door]              [8] 00:00:03.230000     195  \n",
       "1     [light]            [113] 00:00:01.800000     109  \n",
       "2      [door]              [8] 00:00:02.510000     152  \n",
       "3    [fridge]             [10] 00:00:01.220000      74  \n",
       "4    [celery]            [185] 00:00:01.150000      69  "
      ]
     },
     "execution_count": 56,
     "metadata": {},
     "output_type": "execute_result"
    }
   ],
   "source": [
    "t= train \n",
    "train['duration']= pd.to_timedelta(t['stop_timestamp'])- pd.to_timedelta(t['start_timestamp'])\n",
    "train['frames']= t['stop_frame']-t['start_frame']+1\n",
    "train.head(5)\n"
   ]
  },
  {
   "cell_type": "code",
   "execution_count": 57,
   "metadata": {},
   "outputs": [
    {
     "ename": "NameError",
     "evalue": "name 'summary' is not defined",
     "output_type": "error",
     "traceback": [
      "\u001b[0;31m---------------------------------------------------------------------------\u001b[0m",
      "\u001b[0;31mNameError\u001b[0m                                 Traceback (most recent call last)",
      "\u001b[0;32m<ipython-input-57-22daf1299acd>\u001b[0m in \u001b[0;36m<module>\u001b[0;34m\u001b[0m\n\u001b[1;32m      1\u001b[0m \u001b[0mds\u001b[0m\u001b[0;34m=\u001b[0m \u001b[0mtrain\u001b[0m\u001b[0;31m#.head(5)\u001b[0m\u001b[0;34m\u001b[0m\u001b[0;34m\u001b[0m\u001b[0m\n\u001b[1;32m      2\u001b[0m \u001b[0;31m# print(ds)\u001b[0m\u001b[0;34m\u001b[0m\u001b[0;34m\u001b[0m\u001b[0;34m\u001b[0m\u001b[0m\n\u001b[0;32m----> 3\u001b[0;31m \u001b[0mx\u001b[0m\u001b[0;34m=\u001b[0m \u001b[0msummary\u001b[0m\u001b[0;34m(\u001b[0m\u001b[0mds\u001b[0m\u001b[0;34m)\u001b[0m\u001b[0;34m\u001b[0m\u001b[0;34m\u001b[0m\u001b[0m\n\u001b[0m\u001b[1;32m      4\u001b[0m \u001b[0;34m\u001b[0m\u001b[0m\n\u001b[1;32m      5\u001b[0m \u001b[0mx\u001b[0m\u001b[0;34m\u001b[0m\u001b[0;34m\u001b[0m\u001b[0m\n",
      "\u001b[0;31mNameError\u001b[0m: name 'summary' is not defined"
     ]
    }
   ],
   "source": [
    "ds= train#.head(5)\n",
    "# print(ds)\n",
    "x= summary(ds)\n",
    "\n",
    "x\n",
    "# df= pd.DataFrame()\n",
    "# for c in ['verb','verb_class','noun','noun_class','narration']:\n",
    "#     temp= pd.Series(ds[[c]].groupby(c).size().count())\n",
    "# #     print(type(temp))\n",
    "#     df[c]= temp\n",
    "# for c in ['duration','frames']:\n",
    "#     temp= pd.Series(ds[c].sum()) # sum of a pd.Series. ds[[c]].sum() = sum of a df\n",
    "# #     print(type(temp))\n",
    "#     df[c]= temp\n",
    "# # # for c in ['verb','verb_class','noun','noun_class','narration']:\n",
    "# # c= 'frames'\n",
    "# # df[c]=pd.Series(ds[[c]].sum())\n",
    "# # # type(ds[[c]].sum())\n",
    "# # # df[c]= ds[[c]].groupby(c).size().shape\n",
    "# df"
   ]
  },
  {
   "cell_type": "code",
   "execution_count": 58,
   "metadata": {},
   "outputs": [
    {
     "data": {
      "text/html": [
       "<div>\n",
       "<style scoped>\n",
       "    .dataframe tbody tr th:only-of-type {\n",
       "        vertical-align: middle;\n",
       "    }\n",
       "\n",
       "    .dataframe tbody tr th {\n",
       "        vertical-align: top;\n",
       "    }\n",
       "\n",
       "    .dataframe thead th {\n",
       "        text-align: right;\n",
       "    }\n",
       "</style>\n",
       "<table border=\"1\" class=\"dataframe\">\n",
       "  <thead>\n",
       "    <tr style=\"text-align: right;\">\n",
       "      <th></th>\n",
       "      <th>uid</th>\n",
       "      <th>video_id</th>\n",
       "      <th>verb</th>\n",
       "      <th>verb_class</th>\n",
       "      <th>noun</th>\n",
       "      <th>noun_class</th>\n",
       "      <th>narration</th>\n",
       "      <th>duration</th>\n",
       "      <th>frames</th>\n",
       "    </tr>\n",
       "  </thead>\n",
       "  <tbody>\n",
       "    <tr>\n",
       "      <th>total</th>\n",
       "      <td>28472</td>\n",
       "      <td>272</td>\n",
       "      <td>411</td>\n",
       "      <td>119</td>\n",
       "      <td>1047</td>\n",
       "      <td>321</td>\n",
       "      <td>8793</td>\n",
       "      <td>1 days 05:36:41.740000</td>\n",
       "      <td>6424448</td>\n",
       "    </tr>\n",
       "  </tbody>\n",
       "</table>\n",
       "</div>"
      ],
      "text/plain": [
       "         uid  video_id  verb  verb_class  noun  noun_class  narration  \\\n",
       "total  28472       272   411         119  1047         321       8793   \n",
       "\n",
       "                    duration   frames  \n",
       "total 1 days 05:36:41.740000  6424448  "
      ]
     },
     "execution_count": 58,
     "metadata": {},
     "output_type": "execute_result"
    }
   ],
   "source": [
    "def summary(dataset, name='total'):\n",
    "    ds= dataset.copy()\n",
    "    ds['duration']= pd.to_timedelta(ds['stop_timestamp'])- pd.to_timedelta(ds['start_timestamp'])\n",
    "    ds['frames']= ds['stop_frame']-ds['start_frame']+1\n",
    "    df= pd.DataFrame()\n",
    "    df['uid']= pd.Series(ds['participant_id'].count())\n",
    "    # count\n",
    "    for c in ['video_id']:\n",
    "        if c not in ds.columns: continue\n",
    "        temp= pd.Series(ds[[c]].groupby(c).size().count())\n",
    "        df[c]= temp\n",
    "    # distinct \n",
    "    for c in ['verb','verb_class','noun','noun_class','narration']:\n",
    "        if c not in ds.columns: continue\n",
    "        temp= pd.Series(ds[[c]].groupby(c).size().count())\n",
    "        #print(type(temp))\n",
    "        df[c]= temp\n",
    "    #sum \n",
    "    for c in ['duration','frames']:\n",
    "        if c not in ds.columns: continue\n",
    "        temp= pd.Series(ds[c].sum()) # sum of a pd.Series. ds[[c]].sum() = sum of a df\n",
    "        #print(c,type(temp))\n",
    "        df[c]= temp\n",
    "    df.index= [name]\n",
    "    return df \n",
    "\n",
    "summary(train)"
   ]
  },
  {
   "cell_type": "code",
   "execution_count": 59,
   "metadata": {},
   "outputs": [
    {
     "data": {
      "text/html": [
       "<div>\n",
       "<style scoped>\n",
       "    .dataframe tbody tr th:only-of-type {\n",
       "        vertical-align: middle;\n",
       "    }\n",
       "\n",
       "    .dataframe tbody tr th {\n",
       "        vertical-align: top;\n",
       "    }\n",
       "\n",
       "    .dataframe thead th {\n",
       "        text-align: right;\n",
       "    }\n",
       "</style>\n",
       "<table border=\"1\" class=\"dataframe\">\n",
       "  <thead>\n",
       "    <tr style=\"text-align: right;\">\n",
       "      <th></th>\n",
       "      <th>uid</th>\n",
       "      <th>video_id</th>\n",
       "      <th>duration</th>\n",
       "      <th>frames</th>\n",
       "    </tr>\n",
       "  </thead>\n",
       "  <tbody>\n",
       "    <tr>\n",
       "      <th>total</th>\n",
       "      <td>8047</td>\n",
       "      <td>106</td>\n",
       "      <td>08:10:01.090000</td>\n",
       "      <td>1772068</td>\n",
       "    </tr>\n",
       "  </tbody>\n",
       "</table>\n",
       "</div>"
      ],
      "text/plain": [
       "        uid  video_id        duration   frames\n",
       "total  8047       106 08:10:01.090000  1772068"
      ]
     },
     "execution_count": 59,
     "metadata": {},
     "output_type": "execute_result"
    }
   ],
   "source": [
    "summary(test_seen)"
   ]
  },
  {
   "cell_type": "code",
   "execution_count": 60,
   "metadata": {},
   "outputs": [
    {
     "data": {
      "text/html": [
       "<div>\n",
       "<style scoped>\n",
       "    .dataframe tbody tr th:only-of-type {\n",
       "        vertical-align: middle;\n",
       "    }\n",
       "\n",
       "    .dataframe tbody tr th {\n",
       "        vertical-align: top;\n",
       "    }\n",
       "\n",
       "    .dataframe thead th {\n",
       "        text-align: right;\n",
       "    }\n",
       "</style>\n",
       "<table border=\"1\" class=\"dataframe\">\n",
       "  <thead>\n",
       "    <tr style=\"text-align: right;\">\n",
       "      <th></th>\n",
       "      <th>uid</th>\n",
       "      <th>video_id</th>\n",
       "      <th>duration</th>\n",
       "      <th>frames</th>\n",
       "    </tr>\n",
       "  </thead>\n",
       "  <tbody>\n",
       "    <tr>\n",
       "      <th>total</th>\n",
       "      <td>2929</td>\n",
       "      <td>54</td>\n",
       "      <td>02:53:03.090000</td>\n",
       "      <td>625922</td>\n",
       "    </tr>\n",
       "  </tbody>\n",
       "</table>\n",
       "</div>"
      ],
      "text/plain": [
       "        uid  video_id        duration  frames\n",
       "total  2929        54 02:53:03.090000  625922"
      ]
     },
     "execution_count": 60,
     "metadata": {},
     "output_type": "execute_result"
    }
   ],
   "source": [
    "summary(test_unseen)"
   ]
  },
  {
   "cell_type": "code",
   "execution_count": 61,
   "metadata": {},
   "outputs": [
    {
     "data": {
      "text/html": [
       "<div>\n",
       "<style scoped>\n",
       "    .dataframe tbody tr th:only-of-type {\n",
       "        vertical-align: middle;\n",
       "    }\n",
       "\n",
       "    .dataframe tbody tr th {\n",
       "        vertical-align: top;\n",
       "    }\n",
       "\n",
       "    .dataframe thead th {\n",
       "        text-align: right;\n",
       "    }\n",
       "</style>\n",
       "<table border=\"1\" class=\"dataframe\">\n",
       "  <thead>\n",
       "    <tr style=\"text-align: right;\">\n",
       "      <th></th>\n",
       "      <th>uid</th>\n",
       "      <th>video_id</th>\n",
       "      <th>verb</th>\n",
       "      <th>verb_class</th>\n",
       "      <th>noun</th>\n",
       "      <th>noun_class</th>\n",
       "      <th>narration</th>\n",
       "      <th>duration</th>\n",
       "      <th>frames</th>\n",
       "    </tr>\n",
       "  </thead>\n",
       "  <tbody>\n",
       "    <tr>\n",
       "      <th>P01</th>\n",
       "      <td>3090</td>\n",
       "      <td>14</td>\n",
       "      <td>72</td>\n",
       "      <td>49</td>\n",
       "      <td>159</td>\n",
       "      <td>107</td>\n",
       "      <td>900</td>\n",
       "      <td>0 days 03:08:17.240000</td>\n",
       "      <td>680905</td>\n",
       "    </tr>\n",
       "    <tr>\n",
       "      <th>P08</th>\n",
       "      <td>2032</td>\n",
       "      <td>22</td>\n",
       "      <td>107</td>\n",
       "      <td>54</td>\n",
       "      <td>224</td>\n",
       "      <td>125</td>\n",
       "      <td>1041</td>\n",
       "      <td>0 days 02:01:20.550000</td>\n",
       "      <td>438857</td>\n",
       "    </tr>\n",
       "    <tr>\n",
       "      <th>P22</th>\n",
       "      <td>4823</td>\n",
       "      <td>13</td>\n",
       "      <td>96</td>\n",
       "      <td>49</td>\n",
       "      <td>211</td>\n",
       "      <td>122</td>\n",
       "      <td>1256</td>\n",
       "      <td>0 days 03:02:39.160000</td>\n",
       "      <td>662366</td>\n",
       "    </tr>\n",
       "    <tr>\n",
       "      <th>subset_1_8_22</th>\n",
       "      <td>9945</td>\n",
       "      <td>49</td>\n",
       "      <td>190</td>\n",
       "      <td>78</td>\n",
       "      <td>434</td>\n",
       "      <td>199</td>\n",
       "      <td>2925</td>\n",
       "      <td>0 days 08:12:16.950000</td>\n",
       "      <td>1782128</td>\n",
       "    </tr>\n",
       "    <tr>\n",
       "      <th>total</th>\n",
       "      <td>28472</td>\n",
       "      <td>272</td>\n",
       "      <td>411</td>\n",
       "      <td>119</td>\n",
       "      <td>1047</td>\n",
       "      <td>321</td>\n",
       "      <td>8793</td>\n",
       "      <td>1 days 05:36:41.740000</td>\n",
       "      <td>6424448</td>\n",
       "    </tr>\n",
       "  </tbody>\n",
       "</table>\n",
       "</div>"
      ],
      "text/plain": [
       "                 uid  video_id  verb  verb_class  noun  noun_class  narration  \\\n",
       "P01             3090        14    72          49   159         107        900   \n",
       "P08             2032        22   107          54   224         125       1041   \n",
       "P22             4823        13    96          49   211         122       1256   \n",
       "subset_1_8_22   9945        49   190          78   434         199       2925   \n",
       "total          28472       272   411         119  1047         321       8793   \n",
       "\n",
       "                            duration   frames  \n",
       "P01           0 days 03:08:17.240000   680905  \n",
       "P08           0 days 02:01:20.550000   438857  \n",
       "P22           0 days 03:02:39.160000   662366  \n",
       "subset_1_8_22 0 days 08:12:16.950000  1782128  \n",
       "total         1 days 05:36:41.740000  6424448  "
      ]
     },
     "execution_count": 61,
     "metadata": {},
     "output_type": "execute_result"
    }
   ],
   "source": [
    "# participant --- video_num \n",
    "# dataset: train \n",
    "ds= train\n",
    "\n",
    "p_group= pd.DataFrame()\n",
    "p_group['uid']= ds.groupby(['participant_id']).size()\n",
    "g1= ds[np.array(('participant_id','video_id'))].drop_duplicates().groupby('participant_id').size()\n",
    "p_group['video_id']=g1\n",
    "# ##participant--  verbs-- noun ----actions\n",
    "for c in ['verb','verb_class','noun','noun_class','narration']:\n",
    "    p_group[c]= ds[np.array(('participant_id',c))].drop_duplicates().groupby('participant_id').size()\n",
    "\n",
    "for c in ['duration','frames']:\n",
    "    p_group[c]= ds[np.array(('participant_id',c))].groupby('participant_id').sum()\n",
    "\n",
    "p= p_group\n",
    "\n",
    "subset= ['P01','P08','P22']\n",
    "p= p_group.loc[subset]\n",
    "\n",
    "tt= summary(ds,'total')\n",
    "idx= [p in set(subset) for p in ds['participant_id']]\n",
    "sbs= summary(ds.loc[idx],'subset_1_8_22')\n",
    "\n",
    "p.append([sbs,tt])\n",
    "\n"
   ]
  },
  {
   "cell_type": "code",
   "execution_count": 62,
   "metadata": {},
   "outputs": [],
   "source": [
    "# total= p.sum()\n",
    "# total.name='total-dataset'\n",
    "# print(type(total))\n",
    "# p.append(total)"
   ]
  },
  {
   "cell_type": "code",
   "execution_count": 67,
   "metadata": {},
   "outputs": [],
   "source": [
    "s_train= pd.read_pickle('epic_kitchens/train.pkl')\n",
    "s_test= pd.read_pickle('epic_kitchens/test.pkl')\n",
    "s_vld= pd.read_pickle('epic_kitchens/val.pkl')\n",
    "\n"
   ]
  },
  {
   "cell_type": "code",
   "execution_count": 72,
   "metadata": {},
   "outputs": [
    {
     "data": {
      "text/plain": [
       "4762"
      ]
     },
     "execution_count": 72,
     "metadata": {},
     "output_type": "execute_result"
    }
   ],
   "source": [
    "len(s_train)"
   ]
  },
  {
   "cell_type": "code",
   "execution_count": 68,
   "metadata": {},
   "outputs": [
    {
     "ename": "ValueError",
     "evalue": "Length mismatch: Expected axis has 14 elements, new values have 16 elements",
     "output_type": "error",
     "traceback": [
      "\u001b[0;31m---------------------------------------------------------------------------\u001b[0m",
      "\u001b[0;31mValueError\u001b[0m                                Traceback (most recent call last)",
      "\u001b[0;32m<ipython-input-68-34ac9a502d8b>\u001b[0m in \u001b[0;36m<module>\u001b[0;34m\u001b[0m\n\u001b[1;32m      1\u001b[0m \u001b[0mcols\u001b[0m\u001b[0;34m=\u001b[0m \u001b[0mtrain\u001b[0m\u001b[0;34m.\u001b[0m\u001b[0mcolumns\u001b[0m\u001b[0;34m.\u001b[0m\u001b[0mappend\u001b[0m\u001b[0;34m(\u001b[0m\u001b[0mpd\u001b[0m\u001b[0;34m.\u001b[0m\u001b[0mIndex\u001b[0m\u001b[0;34m(\u001b[0m\u001b[0;34m[\u001b[0m\u001b[0;34m'frames'\u001b[0m\u001b[0;34m]\u001b[0m\u001b[0;34m)\u001b[0m\u001b[0;34m)\u001b[0m\u001b[0;34m\u001b[0m\u001b[0;34m\u001b[0m\u001b[0m\n\u001b[0;32m----> 2\u001b[0;31m \u001b[0ms_train\u001b[0m\u001b[0;34m.\u001b[0m\u001b[0mcolumns\u001b[0m\u001b[0;34m=\u001b[0m \u001b[0mcols\u001b[0m\u001b[0;34m\u001b[0m\u001b[0;34m\u001b[0m\u001b[0m\n\u001b[0m\u001b[1;32m      3\u001b[0m \u001b[0ms_test\u001b[0m\u001b[0;34m.\u001b[0m\u001b[0mcolumns\u001b[0m\u001b[0;34m=\u001b[0m \u001b[0mcols\u001b[0m\u001b[0;34m\u001b[0m\u001b[0;34m\u001b[0m\u001b[0m\n\u001b[1;32m      4\u001b[0m \u001b[0ms_vld\u001b[0m\u001b[0;34m.\u001b[0m\u001b[0mcolumns\u001b[0m\u001b[0;34m=\u001b[0m \u001b[0mcols\u001b[0m\u001b[0;34m\u001b[0m\u001b[0;34m\u001b[0m\u001b[0m\n\u001b[1;32m      5\u001b[0m \u001b[0;31m# dt.columns\u001b[0m\u001b[0;34m\u001b[0m\u001b[0;34m\u001b[0m\u001b[0;34m\u001b[0m\u001b[0m\n",
      "\u001b[0;32m~/anaconda3/lib/python3.7/site-packages/pandas/core/generic.py\u001b[0m in \u001b[0;36m__setattr__\u001b[0;34m(self, name, value)\u001b[0m\n\u001b[1;32m   5078\u001b[0m         \u001b[0;32mtry\u001b[0m\u001b[0;34m:\u001b[0m\u001b[0;34m\u001b[0m\u001b[0;34m\u001b[0m\u001b[0m\n\u001b[1;32m   5079\u001b[0m             \u001b[0mobject\u001b[0m\u001b[0;34m.\u001b[0m\u001b[0m__getattribute__\u001b[0m\u001b[0;34m(\u001b[0m\u001b[0mself\u001b[0m\u001b[0;34m,\u001b[0m \u001b[0mname\u001b[0m\u001b[0;34m)\u001b[0m\u001b[0;34m\u001b[0m\u001b[0;34m\u001b[0m\u001b[0m\n\u001b[0;32m-> 5080\u001b[0;31m             \u001b[0;32mreturn\u001b[0m \u001b[0mobject\u001b[0m\u001b[0;34m.\u001b[0m\u001b[0m__setattr__\u001b[0m\u001b[0;34m(\u001b[0m\u001b[0mself\u001b[0m\u001b[0;34m,\u001b[0m \u001b[0mname\u001b[0m\u001b[0;34m,\u001b[0m \u001b[0mvalue\u001b[0m\u001b[0;34m)\u001b[0m\u001b[0;34m\u001b[0m\u001b[0;34m\u001b[0m\u001b[0m\n\u001b[0m\u001b[1;32m   5081\u001b[0m         \u001b[0;32mexcept\u001b[0m \u001b[0mAttributeError\u001b[0m\u001b[0;34m:\u001b[0m\u001b[0;34m\u001b[0m\u001b[0;34m\u001b[0m\u001b[0m\n\u001b[1;32m   5082\u001b[0m             \u001b[0;32mpass\u001b[0m\u001b[0;34m\u001b[0m\u001b[0;34m\u001b[0m\u001b[0m\n",
      "\u001b[0;32mpandas/_libs/properties.pyx\u001b[0m in \u001b[0;36mpandas._libs.properties.AxisProperty.__set__\u001b[0;34m()\u001b[0m\n",
      "\u001b[0;32m~/anaconda3/lib/python3.7/site-packages/pandas/core/generic.py\u001b[0m in \u001b[0;36m_set_axis\u001b[0;34m(self, axis, labels)\u001b[0m\n\u001b[1;32m    636\u001b[0m \u001b[0;34m\u001b[0m\u001b[0m\n\u001b[1;32m    637\u001b[0m     \u001b[0;32mdef\u001b[0m \u001b[0m_set_axis\u001b[0m\u001b[0;34m(\u001b[0m\u001b[0mself\u001b[0m\u001b[0;34m,\u001b[0m \u001b[0maxis\u001b[0m\u001b[0;34m,\u001b[0m \u001b[0mlabels\u001b[0m\u001b[0;34m)\u001b[0m\u001b[0;34m:\u001b[0m\u001b[0;34m\u001b[0m\u001b[0;34m\u001b[0m\u001b[0m\n\u001b[0;32m--> 638\u001b[0;31m         \u001b[0mself\u001b[0m\u001b[0;34m.\u001b[0m\u001b[0m_data\u001b[0m\u001b[0;34m.\u001b[0m\u001b[0mset_axis\u001b[0m\u001b[0;34m(\u001b[0m\u001b[0maxis\u001b[0m\u001b[0;34m,\u001b[0m \u001b[0mlabels\u001b[0m\u001b[0;34m)\u001b[0m\u001b[0;34m\u001b[0m\u001b[0;34m\u001b[0m\u001b[0m\n\u001b[0m\u001b[1;32m    639\u001b[0m         \u001b[0mself\u001b[0m\u001b[0;34m.\u001b[0m\u001b[0m_clear_item_cache\u001b[0m\u001b[0;34m(\u001b[0m\u001b[0;34m)\u001b[0m\u001b[0;34m\u001b[0m\u001b[0;34m\u001b[0m\u001b[0m\n\u001b[1;32m    640\u001b[0m \u001b[0;34m\u001b[0m\u001b[0m\n",
      "\u001b[0;32m~/anaconda3/lib/python3.7/site-packages/pandas/core/internals/managers.py\u001b[0m in \u001b[0;36mset_axis\u001b[0;34m(self, axis, new_labels)\u001b[0m\n\u001b[1;32m    153\u001b[0m             raise ValueError(\n\u001b[1;32m    154\u001b[0m                 \u001b[0;34m'Length mismatch: Expected axis has {old} elements, new '\u001b[0m\u001b[0;34m\u001b[0m\u001b[0;34m\u001b[0m\u001b[0m\n\u001b[0;32m--> 155\u001b[0;31m                 'values have {new} elements'.format(old=old_len, new=new_len))\n\u001b[0m\u001b[1;32m    156\u001b[0m \u001b[0;34m\u001b[0m\u001b[0m\n\u001b[1;32m    157\u001b[0m         \u001b[0mself\u001b[0m\u001b[0;34m.\u001b[0m\u001b[0maxes\u001b[0m\u001b[0;34m[\u001b[0m\u001b[0maxis\u001b[0m\u001b[0;34m]\u001b[0m \u001b[0;34m=\u001b[0m \u001b[0mnew_labels\u001b[0m\u001b[0;34m\u001b[0m\u001b[0;34m\u001b[0m\u001b[0m\n",
      "\u001b[0;31mValueError\u001b[0m: Length mismatch: Expected axis has 14 elements, new values have 16 elements"
     ]
    }
   ],
   "source": [
    "cols= train.columns.append(pd.Index(['frames']))\n",
    "s_train.columns= cols\n",
    "s_test.columns= cols\n",
    "s_vld.columns= cols\n",
    "# dt.columns"
   ]
  },
  {
   "cell_type": "code",
   "execution_count": 65,
   "metadata": {},
   "outputs": [
    {
     "ename": "NameError",
     "evalue": "name 's_train' is not defined",
     "output_type": "error",
     "traceback": [
      "\u001b[0;31m---------------------------------------------------------------------------\u001b[0m",
      "\u001b[0;31mNameError\u001b[0m                                 Traceback (most recent call last)",
      "\u001b[0;32m<ipython-input-65-24567944a87e>\u001b[0m in \u001b[0;36m<module>\u001b[0;34m\u001b[0m\n\u001b[0;32m----> 1\u001b[0;31m \u001b[0mss\u001b[0m\u001b[0;34m=\u001b[0m \u001b[0ms_train\u001b[0m\u001b[0;34m.\u001b[0m\u001b[0mappend\u001b[0m\u001b[0;34m(\u001b[0m\u001b[0;34m[\u001b[0m\u001b[0ms_test\u001b[0m\u001b[0;34m,\u001b[0m\u001b[0ms_vld\u001b[0m\u001b[0;34m]\u001b[0m\u001b[0;34m)\u001b[0m\u001b[0;34m\u001b[0m\u001b[0;34m\u001b[0m\u001b[0m\n\u001b[0m\u001b[1;32m      2\u001b[0m \u001b[0;34m\u001b[0m\u001b[0m\n\u001b[1;32m      3\u001b[0m \u001b[0mprint\u001b[0m\u001b[0;34m(\u001b[0m\u001b[0msummary\u001b[0m\u001b[0;34m(\u001b[0m\u001b[0ms_train\u001b[0m\u001b[0;34m,\u001b[0m\u001b[0;34m'train'\u001b[0m\u001b[0;34m)\u001b[0m\u001b[0;34m)\u001b[0m\u001b[0;34m\u001b[0m\u001b[0;34m\u001b[0m\u001b[0m\n\u001b[1;32m      4\u001b[0m \u001b[0mprint\u001b[0m\u001b[0;34m(\u001b[0m\u001b[0msummary\u001b[0m\u001b[0;34m(\u001b[0m\u001b[0ms_test\u001b[0m\u001b[0;34m,\u001b[0m\u001b[0;34m'test'\u001b[0m\u001b[0;34m)\u001b[0m\u001b[0;34m)\u001b[0m\u001b[0;34m\u001b[0m\u001b[0;34m\u001b[0m\u001b[0m\n\u001b[1;32m      5\u001b[0m \u001b[0mprint\u001b[0m\u001b[0;34m(\u001b[0m\u001b[0msummary\u001b[0m\u001b[0;34m(\u001b[0m\u001b[0ms_vld\u001b[0m\u001b[0;34m,\u001b[0m\u001b[0;34m'vld'\u001b[0m\u001b[0;34m)\u001b[0m\u001b[0;34m)\u001b[0m\u001b[0;34m\u001b[0m\u001b[0;34m\u001b[0m\u001b[0m\n",
      "\u001b[0;31mNameError\u001b[0m: name 's_train' is not defined"
     ]
    }
   ],
   "source": [
    "ss= s_train.append([s_test,s_vld])\n",
    "\n",
    "print(summary(s_train,'train'))\n",
    "print(summary(s_test,'test'))\n",
    "print(summary(s_vld,'vld'))\n",
    "\n",
    "(summary(ss,'subset 1-8-22'))"
   ]
  },
  {
   "cell_type": "markdown",
   "metadata": {},
   "source": [
    "# --"
   ]
  },
  {
   "cell_type": "code",
   "execution_count": 735,
   "metadata": {},
   "outputs": [],
   "source": [
    "# # same as train, test_seen ,test_unseen\n",
    "\n",
    "# meta_test1= pd.read_pickle('../../epic/data/raw/EPIC_test_s1_timestamps.pkl')\n",
    "# meta_test2= pd.read_pickle('../../epic/data/raw/EPIC_test_s2_timestamps.pkl')\n",
    "# meta_train_action= pd.read_pickle('../../epic/data./data/raw/EPIC_train_action_labels.pkl')\n",
    "\n",
    "# print(meta_test1.shape)\n",
    "# print(meta_test2.shape)\n",
    "# print(meta_train_action.shape)\n",
    "\n",
    "train_labels= pd.read_pickle('../annotations-master/EPIC_train_action_labels.pkl')\n"
   ]
  },
  {
   "cell_type": "code",
   "execution_count": 736,
   "metadata": {},
   "outputs": [
    {
     "data": {
      "text/plain": [
       "(28472, 13)"
      ]
     },
     "execution_count": 736,
     "metadata": {},
     "output_type": "execute_result"
    }
   ],
   "source": [
    "train_labels.shape"
   ]
  },
  {
   "cell_type": "code",
   "execution_count": 739,
   "metadata": {},
   "outputs": [
    {
     "name": "stdout",
     "output_type": "stream",
     "text": [
      "(9945, 13)\n"
     ]
    },
    {
     "data": {
      "text/html": [
       "<div>\n",
       "<style scoped>\n",
       "    .dataframe tbody tr th:only-of-type {\n",
       "        vertical-align: middle;\n",
       "    }\n",
       "\n",
       "    .dataframe tbody tr th {\n",
       "        vertical-align: top;\n",
       "    }\n",
       "\n",
       "    .dataframe thead th {\n",
       "        text-align: right;\n",
       "    }\n",
       "</style>\n",
       "<table border=\"1\" class=\"dataframe\">\n",
       "  <thead>\n",
       "    <tr style=\"text-align: right;\">\n",
       "      <th></th>\n",
       "      <th>participant_id</th>\n",
       "      <th>video_id</th>\n",
       "      <th>narration</th>\n",
       "      <th>start_timestamp</th>\n",
       "      <th>stop_timestamp</th>\n",
       "      <th>start_frame</th>\n",
       "      <th>stop_frame</th>\n",
       "      <th>verb</th>\n",
       "      <th>verb_class</th>\n",
       "      <th>noun</th>\n",
       "      <th>noun_class</th>\n",
       "      <th>all_nouns</th>\n",
       "      <th>all_noun_classes</th>\n",
       "    </tr>\n",
       "    <tr>\n",
       "      <th>uid</th>\n",
       "      <th></th>\n",
       "      <th></th>\n",
       "      <th></th>\n",
       "      <th></th>\n",
       "      <th></th>\n",
       "      <th></th>\n",
       "      <th></th>\n",
       "      <th></th>\n",
       "      <th></th>\n",
       "      <th></th>\n",
       "      <th></th>\n",
       "      <th></th>\n",
       "      <th></th>\n",
       "    </tr>\n",
       "  </thead>\n",
       "  <tbody>\n",
       "    <tr>\n",
       "      <th>0</th>\n",
       "      <td>P01</td>\n",
       "      <td>P01_01</td>\n",
       "      <td>open door</td>\n",
       "      <td>00:00:00.14</td>\n",
       "      <td>00:00:03.37</td>\n",
       "      <td>8</td>\n",
       "      <td>202</td>\n",
       "      <td>open</td>\n",
       "      <td>2</td>\n",
       "      <td>door</td>\n",
       "      <td>8</td>\n",
       "      <td>[door]</td>\n",
       "      <td>[8]</td>\n",
       "    </tr>\n",
       "    <tr>\n",
       "      <th>1</th>\n",
       "      <td>P01</td>\n",
       "      <td>P01_01</td>\n",
       "      <td>turn on light</td>\n",
       "      <td>00:00:04.37</td>\n",
       "      <td>00:00:06.17</td>\n",
       "      <td>262</td>\n",
       "      <td>370</td>\n",
       "      <td>turn-on</td>\n",
       "      <td>12</td>\n",
       "      <td>light</td>\n",
       "      <td>113</td>\n",
       "      <td>[light]</td>\n",
       "      <td>[113]</td>\n",
       "    </tr>\n",
       "    <tr>\n",
       "      <th>2</th>\n",
       "      <td>P01</td>\n",
       "      <td>P01_01</td>\n",
       "      <td>close door</td>\n",
       "      <td>00:00:06.98</td>\n",
       "      <td>00:00:09.49</td>\n",
       "      <td>418</td>\n",
       "      <td>569</td>\n",
       "      <td>close</td>\n",
       "      <td>3</td>\n",
       "      <td>door</td>\n",
       "      <td>8</td>\n",
       "      <td>[door]</td>\n",
       "      <td>[8]</td>\n",
       "    </tr>\n",
       "    <tr>\n",
       "      <th>3</th>\n",
       "      <td>P01</td>\n",
       "      <td>P01_01</td>\n",
       "      <td>open fridge</td>\n",
       "      <td>00:00:12.77</td>\n",
       "      <td>00:00:13.99</td>\n",
       "      <td>766</td>\n",
       "      <td>839</td>\n",
       "      <td>open</td>\n",
       "      <td>2</td>\n",
       "      <td>fridge</td>\n",
       "      <td>10</td>\n",
       "      <td>[fridge]</td>\n",
       "      <td>[10]</td>\n",
       "    </tr>\n",
       "    <tr>\n",
       "      <th>4</th>\n",
       "      <td>P01</td>\n",
       "      <td>P01_01</td>\n",
       "      <td>take celery</td>\n",
       "      <td>00:00:15.25</td>\n",
       "      <td>00:00:16.40</td>\n",
       "      <td>915</td>\n",
       "      <td>983</td>\n",
       "      <td>take</td>\n",
       "      <td>0</td>\n",
       "      <td>celery</td>\n",
       "      <td>185</td>\n",
       "      <td>[celery]</td>\n",
       "      <td>[185]</td>\n",
       "    </tr>\n",
       "  </tbody>\n",
       "</table>\n",
       "</div>"
      ],
      "text/plain": [
       "    participant_id video_id      narration start_timestamp stop_timestamp  \\\n",
       "uid                                                                         \n",
       "0              P01   P01_01      open door     00:00:00.14    00:00:03.37   \n",
       "1              P01   P01_01  turn on light     00:00:04.37    00:00:06.17   \n",
       "2              P01   P01_01     close door     00:00:06.98    00:00:09.49   \n",
       "3              P01   P01_01    open fridge     00:00:12.77    00:00:13.99   \n",
       "4              P01   P01_01    take celery     00:00:15.25    00:00:16.40   \n",
       "\n",
       "     start_frame  stop_frame     verb  verb_class    noun  noun_class  \\\n",
       "uid                                                                     \n",
       "0              8         202     open           2    door           8   \n",
       "1            262         370  turn-on          12   light         113   \n",
       "2            418         569    close           3    door           8   \n",
       "3            766         839     open           2  fridge          10   \n",
       "4            915         983     take           0  celery         185   \n",
       "\n",
       "    all_nouns all_noun_classes  \n",
       "uid                             \n",
       "0      [door]              [8]  \n",
       "1     [light]            [113]  \n",
       "2      [door]              [8]  \n",
       "3    [fridge]             [10]  \n",
       "4    [celery]            [185]  "
      ]
     },
     "execution_count": 739,
     "metadata": {},
     "output_type": "execute_result"
    }
   ],
   "source": [
    "idx1= [p in set(subset) for p in train_labels['participant_id']]\n",
    "print(train_labels[idx1].shape)\n",
    "train_labels[idx1].head(5)\n"
   ]
  }
 ],
 "metadata": {
  "kernelspec": {
   "display_name": "Python 3",
   "language": "python",
   "name": "python3"
  },
  "language_info": {
   "codemirror_mode": {
    "name": "ipython",
    "version": 3
   },
   "file_extension": ".py",
   "mimetype": "text/x-python",
   "name": "python",
   "nbconvert_exporter": "python",
   "pygments_lexer": "ipython3",
   "version": "3.7.3"
  }
 },
 "nbformat": 4,
 "nbformat_minor": 2
}
